{
  "nbformat": 4,
  "nbformat_minor": 0,
  "metadata": {
    "colab": {
      "provenance": [],
      "gpuType": "T4"
    },
    "kernelspec": {
      "name": "python3",
      "display_name": "Python 3"
    },
    "language_info": {
      "name": "python"
    },
    "accelerator": "GPU"
  },
  "cells": [
    {
      "cell_type": "code",
      "execution_count": 12,
      "metadata": {
        "colab": {
          "base_uri": "https://localhost:8080/"
        },
        "id": "OuBdK2qVQq-2",
        "outputId": "8ac04f06-2692-4171-8009-8a53ff4d7093"
      },
      "outputs": [
        {
          "output_type": "stream",
          "name": "stdout",
          "text": [
            "Requirement already satisfied: nvcc4jupyter in /usr/local/lib/python3.10/dist-packages (1.2.1)\n"
          ]
        }
      ],
      "source": [
        "!pip install nvcc4jupyter"
      ]
    },
    {
      "cell_type": "code",
      "source": [
        "%load_ext nvcc4jupyter"
      ],
      "metadata": {
        "colab": {
          "base_uri": "https://localhost:8080/"
        },
        "id": "ULcfXyzZRjfq",
        "outputId": "6223eb2d-8ed1-4839-f5b3-ca5ffe7fedd1"
      },
      "execution_count": 13,
      "outputs": [
        {
          "output_type": "stream",
          "name": "stdout",
          "text": [
            "The nvcc4jupyter extension is already loaded. To reload it, use:\n",
            "  %reload_ext nvcc4jupyter\n"
          ]
        }
      ]
    },
    {
      "cell_type": "code",
      "source": [
        "%%cuda\n",
        "#include <cuda.h>\n",
        "#include <cuda_runtime.h>\n",
        "#include <iostream>\n",
        "\n",
        "#define N 100 // Dimensión de las matrices (100x100)\n",
        "using namespace std;\n",
        "\n",
        "// DEVICE: Kernel para multiplicar dos matrices\n",
        "__global__ void matrixMultiply(float* A, float* B, float* C, int n) {\n",
        "    // Índices de fila y columna\n",
        "    int row = blockIdx.y * blockDim.y + threadIdx.y;\n",
        "    int col = blockIdx.x * blockDim.x + threadIdx.x;\n",
        "\n",
        "    // Solo procesar elementos dentro de la matriz\n",
        "    if (row < n && col < n) {\n",
        "        float value = 0;\n",
        "        // Realizar la suma de los productos de la fila y la columna\n",
        "        for (int k = 0; k < n; k++) {\n",
        "            value += A[row * n + k] * B[k * n + col];\n",
        "        }\n",
        "        // Guardar el resultado en la matriz de salida\n",
        "        C[row * n + col] = value;\n",
        "    }\n",
        "}\n",
        "\n",
        "// HOST: Función principal\n",
        "int main() {\n",
        "    // Dimensiones de las matrices\n",
        "    int size = N * N;\n",
        "\n",
        "    // Reservar memoria en el host\n",
        "    float* A = new float[size];\n",
        "    float* B = new float[size];\n",
        "    float* C = new float[size]; // Matriz resultado\n",
        "\n",
        "    // Inicializar matrices A y B\n",
        "    for (int i = 0; i < size; i++) {\n",
        "        A[i] = 1.0; // Llenar con 1.0 por simplicidad\n",
        "        B[i] = 1.0; // Llenar con 1.0 por simplicidad\n",
        "    }\n",
        "\n",
        "    // Reservar memoria en el dispositivo\n",
        "    float *d_A, *d_B, *d_C;\n",
        "    cudaMalloc((void**)&d_A, size * sizeof(float));\n",
        "    cudaMalloc((void**)&d_B, size * sizeof(float));\n",
        "    cudaMalloc((void**)&d_C, size * sizeof(float));\n",
        "\n",
        "    // Copiar datos del host al dispositivo\n",
        "    cudaMemcpy(d_A, A, size * sizeof(float), cudaMemcpyHostToDevice);\n",
        "    cudaMemcpy(d_B, B, size * sizeof(float), cudaMemcpyHostToDevice);\n",
        "\n",
        "    // Configurar la rejilla y los bloques\n",
        "    dim3 threadsPerBlock(16, 16); // 16x16 hilos por bloque\n",
        "    dim3 blocksPerGrid((N + threadsPerBlock.x - 1) / threadsPerBlock.x,\n",
        "                       (N + threadsPerBlock.y - 1) / threadsPerBlock.y);\n",
        "\n",
        "    // Ejecutar el kernel\n",
        "    matrixMultiply<<<blocksPerGrid, threadsPerBlock>>>(d_A, d_B, d_C, N);\n",
        "\n",
        "    // Sincronizar\n",
        "    cudaDeviceSynchronize();\n",
        "\n",
        "    // Copiar resultado de vuelta al host\n",
        "    cudaMemcpy(C, d_C, size * sizeof(float), cudaMemcpyDeviceToHost);\n",
        "\n",
        "    // Imprimir la matriz resultado (solo los primeros 10x10 elementos)\n",
        "    cout << \"Matriz Resultado:\" << endl;\n",
        "    for (int i = 0; i < 10; i++) {\n",
        "        for (int j = 0; j < 10; j++) {\n",
        "            cout << C[i * N + j] << \" \";\n",
        "        }\n",
        "        cout << endl;\n",
        "    }\n",
        "\n",
        "    // Liberar memoria en el dispositivo\n",
        "    cudaFree(d_A);\n",
        "    cudaFree(d_B);\n",
        "    cudaFree(d_C);\n",
        "\n",
        "    // Liberar memoria en el host\n",
        "    delete[] A;\n",
        "    delete[] B;\n",
        "    delete[] C;\n",
        "\n",
        "    return 0;\n",
        "}\n"
      ],
      "metadata": {
        "colab": {
          "base_uri": "https://localhost:8080/"
        },
        "id": "5xHKarXbUr2e",
        "outputId": "c723c505-7900-4f3c-b006-b2e8d17e0726"
      },
      "execution_count": 16,
      "outputs": [
        {
          "output_type": "stream",
          "name": "stdout",
          "text": [
            "Matriz Resultado:\n",
            "100 100 100 100 100 100 100 100 100 100 \n",
            "100 100 100 100 100 100 100 100 100 100 \n",
            "100 100 100 100 100 100 100 100 100 100 \n",
            "100 100 100 100 100 100 100 100 100 100 \n",
            "100 100 100 100 100 100 100 100 100 100 \n",
            "100 100 100 100 100 100 100 100 100 100 \n",
            "100 100 100 100 100 100 100 100 100 100 \n",
            "100 100 100 100 100 100 100 100 100 100 \n",
            "100 100 100 100 100 100 100 100 100 100 \n",
            "100 100 100 100 100 100 100 100 100 100 \n",
            "\n"
          ]
        }
      ]
    }
  ]
}